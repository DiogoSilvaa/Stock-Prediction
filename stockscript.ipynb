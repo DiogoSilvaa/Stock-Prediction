{
  "nbformat": 4,
  "nbformat_minor": 0,
  "metadata": {
    "colab": {
      "name": "stockscript.ipynb",
      "provenance": [],
      "collapsed_sections": [],
      "authorship_tag": "ABX9TyMjg0pUjDOVDQ++tiRW1x5/",
      "include_colab_link": true
    },
    "kernelspec": {
      "name": "python3",
      "display_name": "Python 3"
    },
    "language_info": {
      "name": "python"
    }
  },
  "cells": [
    {
      "cell_type": "markdown",
      "metadata": {
        "id": "view-in-github",
        "colab_type": "text"
      },
      "source": [
        "<a href=\"https://colab.research.google.com/github/DiogoSilvaa/Stock-Prediction/blob/master/stockscript.ipynb\" target=\"_parent\"><img src=\"https://colab.research.google.com/assets/colab-badge.svg\" alt=\"Open In Colab\"/></a>"
      ]
    },
    {
      "cell_type": "code",
      "metadata": {
        "id": "IVU6g5xlWu81"
      },
      "source": [
        "#Import libraries\n",
        "import pandas_datareader as web\n",
        "import numpy as np\n",
        "from sklearn.preprocessing import scale\n",
        "import pandas as pd\n",
        "from datetime import datetime, timedelta\n",
        "import tensorflow as tf\n",
        "from tensorflow import keras\n",
        "from keras.models import load_model"
      ],
      "execution_count": 249,
      "outputs": []
    },
    {
      "cell_type": "code",
      "metadata": {
        "id": "3OC-TOTFSljm"
      },
      "source": [
        "def preprocessing(df):\n",
        "  #Normalise data \n",
        "  for c in df.columns:\n",
        "      df[c] = df[c].pct_change()\n",
        "      df[c] = scale(df[c])\n",
        "      df.dropna(inplace=True)\n",
        "  \n",
        "  df.dropna(inplace=True)\n",
        "\n",
        "  return np.array(df)"
      ],
      "execution_count": 250,
      "outputs": []
    },
    {
      "cell_type": "code",
      "metadata": {
        "id": "tBMZ2VS8mNzA"
      },
      "source": [
        "#Get data date range\n",
        "today = datetime.now()\n",
        "delta = timedelta(days = 400)\n",
        "past = today - delta\n",
        "\n",
        "today = today.date()\n",
        "past = past.date()"
      ],
      "execution_count": 251,
      "outputs": []
    },
    {
      "cell_type": "code",
      "metadata": {
        "id": "lQSPgHlxXGUy"
      },
      "source": [
        "#Import stock data\n",
        "stocks = ['QQQ','DIA','SPY']\n",
        "main_df = pd.DataFrame()\n",
        "for index in stocks:\n",
        "  df = web.DataReader(index, data_source = 'yahoo', start=past, end=today) #Import data from Yahoo Finance (starting from 01-01-2000 to 01-01-2021)\n",
        "  \n",
        "  df[f\"150SMA_{index}\"] = df.Close.rolling(150).mean()  # Add a column to include the last 150 days simple moving average\n",
        "  df[f\"dSMA_{index}\"] = df['Close'] - df[f\"150SMA_{index}\"] # Add a column to include distance of closing price to 150 SMA\n",
        "\n",
        "  df.rename(columns={\"Close\": f\"close_{index}\", \"Volume\": f\"volume_{index}\"}, inplace=True)\n",
        "  df = df[[f\"close_{index}\",f\"volume_{index}\", f\"dSMA_{index}\"]]\n",
        "  \n",
        "  if len(main_df) == 0:\n",
        "    main_df = df\n",
        "  else:\n",
        "    main_df = main_df.join(df)\n",
        "\n",
        "main_df.dropna(inplace=True)\n",
        "\n",
        "main_df = main_df[-109:]"
      ],
      "execution_count": 252,
      "outputs": []
    },
    {
      "cell_type": "code",
      "metadata": {
        "id": "_HJbZFiWQUKP",
        "colab": {
          "base_uri": "https://localhost:8080/"
        },
        "outputId": "bb963076-3c2d-405d-dae1-cd85c1692737"
      },
      "source": [
        "#Data processing and neural network feeding \n",
        "last100 = preprocessing(main_df)\n",
        "last100 = np.reshape(last100,(1, 100, last100.shape[1]))\n",
        "\n",
        "model_nq = load_model('/content/models/QQQ.h5')\n",
        "model_sp = load_model('/content/models/SPY.h5')\n",
        "model_dw = load_model('/content/models/DIA.h5')\n",
        "\n",
        "#Model prediction\n",
        "nq = (model_nq.predict(last100))\n",
        "sp = (model_sp.predict(last100))\n",
        "dw = (model_dw.predict(last100))\n",
        "\n",
        "if nq[0][0]>nq[0][1]:\n",
        "  nq = 0\n",
        "else:\n",
        "  nq = 1\n",
        "\n",
        "if sp[0][0]>sp[0][1]:\n",
        "  sp = 0\n",
        "else:\n",
        "  sp = 1\n",
        "\n",
        "if dw[0][0]>dw[0][1]:\n",
        "  dw = 0\n",
        "else:\n",
        "  dw = 1\n",
        "\n",
        "pred = [[\"QQQ\",nq],[\"SPY\",sp],[\"DIA\",dw]]"
      ],
      "execution_count": 253,
      "outputs": [
        {
          "output_type": "stream",
          "text": [
            "NQ: [[0.1525434 0.8474566]]\n",
            "SP: [[0.8218324  0.17816752]]\n",
            "Dow: [[0.67185724 0.32814276]]\n",
            "[['QQQ', 1], ['SPY', 0], ['DIA', 0]]\n"
          ],
          "name": "stdout"
        }
      ]
    },
    {
      "cell_type": "code",
      "metadata": {
        "id": "dGQpcFxhlwUK"
      },
      "source": [
        ""
      ],
      "execution_count": 253,
      "outputs": []
    }
  ]
}